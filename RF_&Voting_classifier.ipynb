{
  "nbformat": 4,
  "nbformat_minor": 0,
  "metadata": {
    "colab": {
      "name": "RF & Ensemble.ipynb",
      "provenance": [],
      "collapsed_sections": [],
      "mount_file_id": "1rB8h-2J_fih3f71Zvuu0fX51IT2sDT0d",
      "authorship_tag": "ABX9TyN7i3O9azRcnL68qgMXU9FR"
    },
    "kernelspec": {
      "name": "python3",
      "display_name": "Python 3"
    }
  },
  "cells": [
    {
      "cell_type": "code",
      "metadata": {
        "id": "DSm4oJt_zOs5",
        "colab_type": "code",
        "outputId": "e30e047e-4c27-4885-cb99-4ad5933c33f2",
        "colab": {
          "base_uri": "https://localhost:8080/",
          "height": 139
        }
      },
      "source": [
        "import os\n",
        "import numpy as np\n",
        "import pandas as pd \n",
        "import random\n",
        "import cv2\n",
        "import matplotlib.pyplot as plt\n",
        "import keras.backend as K\n",
        "import tensorflow as tf\n",
        "import warnings\n",
        "\n",
        "from random import shuffle \n",
        "from tqdm import tqdm \n",
        "from PIL import Image\n",
        "from keras.models import Model, Sequential\n",
        "from keras.layers import Input, Dense, Flatten, Dropout, BatchNormalization, Conv2D, SeparableConv2D, MaxPool2D, LeakyReLU, Activation\n",
        "from keras.optimizers import Adam\n",
        "from keras.preprocessing.image import ImageDataGenerator\n",
        "from keras.callbacks import ModelCheckpoint, ReduceLROnPlateau, EarlyStopping\n",
        "from sklearn.metrics import accuracy_score, confusion_matrix\n",
        "from sklearn.preprocessing import MinMaxScaler\n",
        "from sklearn import svm\n",
        "from google.colab import drive\n",
        "drive.mount('/content/gdrive')\n",
        "\n",
        "%matplotlib inline\n",
        "\n",
        "in_path = '/content/gdrive/My Drive/demo/chest_xray/'"
      ],
      "execution_count": 0,
      "outputs": [
        {
          "output_type": "stream",
          "text": [
            "Using TensorFlow backend.\n"
          ],
          "name": "stderr"
        },
        {
          "output_type": "stream",
          "text": [
            "Go to this URL in a browser: https://accounts.google.com/o/oauth2/auth?client_id=947318989803-6bn6qk8qdgf4n4g3pfee6491hc0brc4i.apps.googleusercontent.com&redirect_uri=urn%3aietf%3awg%3aoauth%3a2.0%3aoob&response_type=code&scope=email%20https%3a%2f%2fwww.googleapis.com%2fauth%2fdocs.test%20https%3a%2f%2fwww.googleapis.com%2fauth%2fdrive%20https%3a%2f%2fwww.googleapis.com%2fauth%2fdrive.photos.readonly%20https%3a%2f%2fwww.googleapis.com%2fauth%2fpeopleapi.readonly\n",
            "\n",
            "Enter your authorization code:\n",
            "··········\n",
            "Mounted at /content/gdrive\n"
          ],
          "name": "stdout"
        }
      ]
    },
    {
      "cell_type": "code",
      "metadata": {
        "id": "djO2LVCq7yYf",
        "colab_type": "code",
        "colab": {}
      },
      "source": [
        "def extract_data(dimensions, batch_length):\n",
        "    tgen = ImageDataGenerator(rescale=1./255, zoom_range=0.3, vertical_flip=True)\n",
        "    test_val_datagen = ImageDataGenerator(rescale=1./255)\n",
        "    tgen_final = tgen.flow_from_directory(directory=in_path+'train', target_size=(dimensions, dimensions), batch_size=batch_length, class_mode='binary', shuffle=True)\n",
        "    test_gen = test_val_datagen.flow_from_directory(directory=in_path+'test', target_size=(dimensions, dimensions), batch_size=batch_length, class_mode='binary', shuffle=True)\n",
        "\n",
        "    test_data = []\n",
        "    test_labels = []\n",
        "    \n",
        "    train_data = []\n",
        "    train_labels = []\n",
        "\n",
        "    for normal_image in (os.listdir(in_path + 'test' + '/NORMAL/')):\n",
        "        normal_image = plt.imread(in_path+'test'+'/NORMAL/'+normal_image)\n",
        "        normal_image = cv2.resize(normal_image, (dimensions, dimensions))\n",
        "        normal_image = normal_image.astype('float32') / 255\n",
        "        label = 0\n",
        "        test_data.append(normal_image)\n",
        "        test_labels.append(label)\n",
        "\n",
        "    for pneumonia_image in (os.listdir(in_path + 'test' + '/PNEUMONIA/')):\n",
        "        pneumonia_image = plt.imread(in_path+'test'+'/PNEUMONIA/'+pneumonia_image)\n",
        "        pneumonia_image = cv2.resize(pneumonia_image, (dimensions, dimensions))\n",
        "        pneumonia_image = pneumonia_image.astype('float32') / 255\n",
        "        label = 1\n",
        "        test_data.append(pneumonia_image)\n",
        "        test_labels.append(label)\n",
        "\n",
        "    for normal_image in (os.listdir(in_path + 'train' + '/NORMAL/')):\n",
        "        if normal_image == '.DS_Store':\n",
        "            continue\n",
        "        normal_image = plt.imread(in_path+'train'+'/NORMAL/'+normal_image)\n",
        "        normal_image = cv2.resize(normal_image, (dimensions, dimensions))\n",
        "        normal_image = normal_image.astype('float32') / 255\n",
        "        label = 0\n",
        "        train_data.append(normal_image)\n",
        "        train_labels.append(label)\n",
        "\n",
        "    for pneumonia_image in (os.listdir(in_path + 'train' + '/PNEUMONIA/')):\n",
        "        if pneumonia_image == '.DS_Store':\n",
        "            continue\n",
        "        pneumonia_image = plt.imread(in_path+'train'+'/PNEUMONIA/'+pneumonia_image)\n",
        "        pneumonia_image = cv2.resize(pneumonia_image, (dimensions, dimensions))\n",
        "        pneumonia_image = pneumonia_image.astype('float32') / 255\n",
        "        label = 1\n",
        "        train_data.append(pneumonia_image)\n",
        "        train_labels.append(label)\n",
        "    \n",
        "    return tgen_final, test_gen, test_data, test_labels, train_data, train_labels"
      ],
      "execution_count": 0,
      "outputs": []
    },
    {
      "cell_type": "code",
      "metadata": {
        "id": "Otyg6s0372_N",
        "colab_type": "code",
        "outputId": "c61ea49e-1ee0-4177-9838-afc416db489c",
        "colab": {
          "base_uri": "https://localhost:8080/",
          "height": 51
        }
      },
      "source": [
        "img_dims = 150\n",
        "epochs = 1\n",
        "batch_size = 10\n",
        "\n",
        "train_gen, test_gen, test_data, test_labels, train_data, train_labels = extract_data(img_dims, batch_size)\n"
      ],
      "execution_count": 0,
      "outputs": [
        {
          "output_type": "stream",
          "text": [
            "Found 5276 images belonging to 2 classes.\n",
            "Found 624 images belonging to 2 classes.\n"
          ],
          "name": "stdout"
        }
      ]
    },
    {
      "cell_type": "code",
      "metadata": {
        "id": "dxFpY4_g77G9",
        "colab_type": "code",
        "colab": {}
      },
      "source": [
        "flat_train_data = []\n",
        "flat_test_data = []\n",
        "\n",
        "for img in train_data: \n",
        "    flat_train_data.append(img.flatten())\n",
        "    \n",
        "for img in test_data: \n",
        "    flat_test_data.append(img.flatten())"
      ],
      "execution_count": 0,
      "outputs": []
    },
    {
      "cell_type": "code",
      "metadata": {
        "id": "gh3BvnitLynY",
        "colab_type": "code",
        "colab": {}
      },
      "source": [
        "listed_train_data = []\n",
        "listed_test_data = []\n",
        "\n",
        "for d in flat_train_data:\n",
        "    listed_train_data.append(d.tolist()[:150*150])\n",
        "    \n",
        "for d in flat_test_data:\n",
        "    listed_test_data.append(d.tolist()[:150*150])"
      ],
      "execution_count": 0,
      "outputs": []
    },
    {
      "cell_type": "code",
      "metadata": {
        "id": "aFqdfsETL017",
        "colab_type": "code",
        "colab": {}
      },
      "source": [
        "train_labels_mini = train_labels\n",
        "test_labels_mini = test_labels"
      ],
      "execution_count": 0,
      "outputs": []
    },
    {
      "cell_type": "code",
      "metadata": {
        "id": "LBEs5u3yYk2y",
        "colab_type": "code",
        "outputId": "7e6a667e-bab3-468d-9d03-7762cc4a2dbf",
        "colab": {
          "base_uri": "https://localhost:8080/",
          "height": 153
        }
      },
      "source": [
        "from sklearn.ensemble import RandomForestClassifier\n",
        "\n",
        "random_forest = RandomForestClassifier(n_estimators=100)\n",
        "random_forest.fit(listed_train_data, train_labels_mini)"
      ],
      "execution_count": 0,
      "outputs": [
        {
          "output_type": "execute_result",
          "data": {
            "text/plain": [
              "RandomForestClassifier(bootstrap=True, ccp_alpha=0.0, class_weight=None,\n",
              "                       criterion='gini', max_depth=None, max_features='auto',\n",
              "                       max_leaf_nodes=None, max_samples=None,\n",
              "                       min_impurity_decrease=0.0, min_impurity_split=None,\n",
              "                       min_samples_leaf=1, min_samples_split=2,\n",
              "                       min_weight_fraction_leaf=0.0, n_estimators=100,\n",
              "                       n_jobs=None, oob_score=False, random_state=None,\n",
              "                       verbose=0, warm_start=False)"
            ]
          },
          "metadata": {
            "tags": []
          },
          "execution_count": 7
        }
      ]
    },
    {
      "cell_type": "code",
      "metadata": {
        "id": "VnvqBZWUL6Za",
        "colab_type": "code",
        "outputId": "c8fd64de-9637-496d-85bc-e8dd7ef7a458",
        "colab": {
          "base_uri": "https://localhost:8080/",
          "height": 85
        }
      },
      "source": [
        "correctlyPredicted = 0\n",
        "fp = 0\n",
        "tp = 0\n",
        "fn = 0\n",
        "tn = 0\n",
        "\n",
        "for ind in range(len(listed_test_data)): \n",
        "    pred = random_forest.predict([listed_test_data[ind]])\n",
        "    real = test_labels_mini[ind]\n",
        "    if real == 1 and pred == 1:\n",
        "        tp += 1\n",
        "    if real == 1 and pred == 0:\n",
        "        fn += 1\n",
        "    if real == 0 and pred == 1:\n",
        "        fp += 1\n",
        "    if real == 0 and pred == 0:\n",
        "        tn += 1\n",
        "    if pred == real:\n",
        "        correctlyPredicted += 1\n",
        "\n",
        "acc = correctlyPredicted/float(len(listed_test_data))\n",
        "print(\"TEST DATA________________________\")\n",
        "print(\"Accuracy: {}\".format(acc))\n",
        "print(\"Confusion matrix: f_p = {}, t_p = {}, f_n = {}, t_n = {}\".format(fp, tp, fn, tn))\n",
        "\n",
        "prec = tp/(tp+fp)*100\n",
        "rec = tp/(tp+fn)*100\n",
        "\n",
        "print(\"Precision: {}, recall: {}\".format(prec, rec))"
      ],
      "execution_count": 0,
      "outputs": [
        {
          "output_type": "stream",
          "text": [
            "TEST DATA________________________\n",
            "Accuracy: 0.7596153846153846\n",
            "Confusion matrix: f_p = 147, t_p = 387, f_n = 3, t_n = 87\n",
            "Precision: 72.47191011235955, recall: 99.23076923076923\n"
          ],
          "name": "stdout"
        }
      ]
    },
    {
      "cell_type": "code",
      "metadata": {
        "id": "z0JLb8bkMxkG",
        "colab_type": "code",
        "outputId": "7c512d30-436b-4328-8520-9aa171c26a35",
        "colab": {
          "base_uri": "https://localhost:8080/",
          "height": 34
        }
      },
      "source": [
        "F1  = 2*prec*rec/(prec+rec)\n",
        "print (\"f1 score:\",F1)\n"
      ],
      "execution_count": 0,
      "outputs": [
        {
          "output_type": "stream",
          "text": [
            "f1 score: 83.76623376623377\n"
          ],
          "name": "stdout"
        }
      ]
    },
    {
      "cell_type": "code",
      "metadata": {
        "id": "z_6Q3L0ENPW0",
        "colab_type": "code",
        "colab": {}
      },
      "source": [
        "correctlyPredicted = 0\n",
        "fp = 0\n",
        "tp = 0\n",
        "fn = 0\n",
        "tn = 0\n",
        "\n",
        "for ind in range(len(listed_train_data)): \n",
        "    pred = random_forest.predict([listed_train_data[ind]])\n",
        "    real = train_labels_mini[ind]\n",
        "    if real == 1 and pred == 1:\n",
        "        tp += 1\n",
        "    if real == 1 and pred == 0:\n",
        "        fn += 1\n",
        "    if real == 0 and pred == 1:\n",
        "        fp += 1\n",
        "    if real == 0 and pred == 0:\n",
        "        tn += 1\n",
        "    if pred == real:\n",
        "        correctlyPredicted += 1\n",
        "\n",
        "acc = correctlyPredicted/float(len(listed_train_data))\n",
        "print(\"TRAIN DATA________________________\")\n",
        "print(\"Accuracy: {}\".format(acc))\n",
        "print(\"Confusion matrix: f_p = {}, t_p = {}, f_n = {}, t_n = {}\".format(fp, tp, fn, tn))\n",
        "\n",
        "prec = tp/(tp+fp)*100\n",
        "rec = tp/(tp+fn)*100\n",
        "print(\"Precision: {}, recall: {}\".format(prec, rec))\n"
      ],
      "execution_count": 0,
      "outputs": []
    },
    {
      "cell_type": "code",
      "metadata": {
        "id": "F5f4NygQZuRU",
        "colab_type": "code",
        "colab": {}
      },
      "source": [
        "from sklearn.linear_model import LogisticRegression\n",
        "from sklearn.ensemble import RandomForestClassifier\n",
        "from sklearn.linear_model import Perceptron\n",
        "from sklearn.linear_model import SGDClassifier\n",
        "from sklearn.tree import DecisionTreeClassifier\n",
        "from sklearn.neighbors import KNeighborsClassifier\n",
        "from sklearn.svm import SVC, LinearSVC\n",
        "from sklearn.naive_bayes import GaussianNB"
      ],
      "execution_count": 0,
      "outputs": []
    },
    {
      "cell_type": "code",
      "metadata": {
        "id": "K6S4QLjJZ7XZ",
        "colab_type": "code",
        "outputId": "b678a968-f99e-42cd-8d76-92eee63b94cf",
        "colab": {
          "base_uri": "https://localhost:8080/",
          "height": 578
        }
      },
      "source": [
        "from sklearn.ensemble import VotingClassifier\n",
        "LogClf = LogisticRegression()\n",
        "RndClf = RandomForestClassifier()\n",
        "DecClf = DecisionTreeClassifier()\n",
        "voting_clf = VotingClassifier(estimators = [('rf',RndClf) , ('dt' , DecClf)],voting='soft')\n",
        "voting_clf.fit(listed_train_data, train_labels_mini)"
      ],
      "execution_count": 0,
      "outputs": [
        {
          "output_type": "execute_result",
          "data": {
            "text/plain": [
              "VotingClassifier(estimators=[('rf',\n",
              "                              RandomForestClassifier(bootstrap=True,\n",
              "                                                     ccp_alpha=0.0,\n",
              "                                                     class_weight=None,\n",
              "                                                     criterion='gini',\n",
              "                                                     max_depth=None,\n",
              "                                                     max_features='auto',\n",
              "                                                     max_leaf_nodes=None,\n",
              "                                                     max_samples=None,\n",
              "                                                     min_impurity_decrease=0.0,\n",
              "                                                     min_impurity_split=None,\n",
              "                                                     min_samples_leaf=1,\n",
              "                                                     min_samples_split=2,\n",
              "                                                     min_weight_fraction_leaf=0.0,\n",
              "                                                     n_estimators=100,\n",
              "                                                     n_jobs=None,\n",
              "                                                     oob_score...\n",
              "                              DecisionTreeClassifier(ccp_alpha=0.0,\n",
              "                                                     class_weight=None,\n",
              "                                                     criterion='gini',\n",
              "                                                     max_depth=None,\n",
              "                                                     max_features=None,\n",
              "                                                     max_leaf_nodes=None,\n",
              "                                                     min_impurity_decrease=0.0,\n",
              "                                                     min_impurity_split=None,\n",
              "                                                     min_samples_leaf=1,\n",
              "                                                     min_samples_split=2,\n",
              "                                                     min_weight_fraction_leaf=0.0,\n",
              "                                                     presort='deprecated',\n",
              "                                                     random_state=None,\n",
              "                                                     splitter='best'))],\n",
              "                 flatten_transform=True, n_jobs=None, voting='soft',\n",
              "                 weights=None)"
            ]
          },
          "metadata": {
            "tags": []
          },
          "execution_count": 14
        }
      ]
    },
    {
      "cell_type": "code",
      "metadata": {
        "id": "iQJ1LXCgaMxz",
        "colab_type": "code",
        "outputId": "e267c688-2963-4dfc-be5e-14115610dbd4",
        "colab": {
          "base_uri": "https://localhost:8080/",
          "height": 68
        }
      },
      "source": [
        "correctlyPredicted = 0\n",
        "fp = 0\n",
        "tp = 0\n",
        "fn = 0\n",
        "tn = 0\n",
        "\n",
        "for ind in range(len(listed_test_data)): \n",
        "    pred = voting_clf.predict([listed_test_data[ind]])\n",
        "    real = test_labels_mini[ind]\n",
        "    if real == 1 and pred == 1:\n",
        "        tp += 1\n",
        "    if real == 1 and pred == 0:\n",
        "        fn += 1\n",
        "    if real == 0 and pred == 1:\n",
        "        fp += 1\n",
        "    if real == 0 and pred == 0:\n",
        "        tn += 1\n",
        "    if pred == real:\n",
        "        correctlyPredicted += 1\n",
        "\n",
        "acc = correctlyPredicted/float(len(listed_test_data))\n",
        "print(\"TEST DATA________________________\")\n",
        "print(\"Accuracy: {}\".format(acc))\n",
        "\n",
        "\n",
        "prec = tp/(tp+fp)*100\n",
        "rec = tp/(tp+fn)*100\n",
        "\n",
        "print(\"Precision: {}, recall: {}\".format(prec, rec))"
      ],
      "execution_count": 0,
      "outputs": [
        {
          "output_type": "stream",
          "text": [
            "TEST DATA________________________\n",
            "Accuracy: 0.7035256410256411\n",
            "Precision: 69.1588785046729, recall: 94.87179487179486\n"
          ],
          "name": "stdout"
        }
      ]
    },
    {
      "cell_type": "code",
      "metadata": {
        "id": "Bzk5047AbdoT",
        "colab_type": "code",
        "outputId": "7ed287d7-e26f-4df8-b419-0d8464e5fb04",
        "colab": {
          "base_uri": "https://localhost:8080/",
          "height": 34
        }
      },
      "source": [
        "F1  = 2*prec*rec/(prec+rec)\n",
        "print (\"f1 score:\",F1)\n"
      ],
      "execution_count": 0,
      "outputs": [
        {
          "output_type": "stream",
          "text": [
            "f1 score: 80.0\n"
          ],
          "name": "stdout"
        }
      ]
    },
    {
      "cell_type": "code",
      "metadata": {
        "id": "qMuNluKwbmXp",
        "colab_type": "code",
        "colab": {}
      },
      "source": [
        ""
      ],
      "execution_count": 0,
      "outputs": []
    }
  ]
}